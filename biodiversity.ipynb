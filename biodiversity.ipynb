{
 "cells": [
  {
   "cell_type": "markdown",
   "metadata": {},
   "source": [
    "The principle purpose of this project is to investigate whether there are any patterns to the types of species that become endangered. As an biodiveristy analyst for National Parks Service, the goal is to ensure the survival of at risk species. This would be done through maintaining the biodiveristy of the parks. Some questions that are raised in order to achieve this are:\n",
    "1. What is the distribution of conservation_status for animals?\n",
    "2. Are certain types of species more likely to be endangered?\n",
    "3. Are the differences between species and their conservation status significant?\n",
    "4. Which species were spotted the most at each park?"
   ]
  },
  {
   "cell_type": "code",
   "execution_count": 3,
   "metadata": {},
   "outputs": [],
   "source": [
    "import pandas as pd \n",
    "import matplotlib.pyplot as plt \n",
    "import numpy as np \n",
    "import seaborn as sns \n",
    "%matplotlib inline"
   ]
  },
  {
   "cell_type": "code",
   "execution_count": 4,
   "metadata": {},
   "outputs": [],
   "source": [
    "observations = pd.read_csv('observations.csv', encoding = 'utf-8')\n",
    "species_info = pd.read_csv('species_info.csv', encoding = 'utf-8')\n",
    "\n"
   ]
  },
  {
   "cell_type": "markdown",
   "metadata": {},
   "source": [
    "### The observations DataFrame has the following columns:\n",
    "- **scientific_name** - The scientific name of each species\n",
    "- **park_name** - The name of the national park\n",
    "- **observations** - The number of observations in the past 7 days\n",
    "\n",
    "### The species_info DataFrame has the following columns:\n",
    "- **category** - The category of taxonomy for each species\n",
    "- **scientific_name** - The scientific name of each species\n",
    "- **common_names** - The common names of each species\n",
    "- **conservation_status** - The species conservation status"
   ]
  },
  {
   "cell_type": "markdown",
   "metadata": {},
   "source": [
    "Let's explore the data further by seeing what the number of unique species are."
   ]
  },
  {
   "cell_type": "code",
   "execution_count": 5,
   "metadata": {},
   "outputs": [
    {
     "name": "stdout",
     "output_type": "stream",
     "text": [
      "The number of unique species in the species_info dataset is:  5541\n"
     ]
    }
   ],
   "source": [
    "print('The number of unique species in the species_info dataset is: ', species_info.scientific_name.nunique())"
   ]
  },
  {
   "cell_type": "markdown",
   "metadata": {},
   "source": [
    "Now, we want to see the number of categories items in the species_info categories column"
   ]
  },
  {
   "cell_type": "code",
   "execution_count": 6,
   "metadata": {},
   "outputs": [
    {
     "name": "stdout",
     "output_type": "stream",
     "text": [
      "The number of categories are  7 , they are as follows:  ['Mammal' 'Bird' 'Reptile' 'Amphibian' 'Fish' 'Vascular Plant'\n",
      " 'Nonvascular Plant']\n"
     ]
    }
   ],
   "source": [
    "print('The number of categories are ', species_info.category.nunique(), ', they are as follows: ', species_info.category.unique())"
   ]
  },
  {
   "cell_type": "code",
   "execution_count": 7,
   "metadata": {},
   "outputs": [
    {
     "name": "stdout",
     "output_type": "stream",
     "text": [
      "category\n",
      "Amphibian              80\n",
      "Bird                  521\n",
      "Fish                  127\n",
      "Mammal                214\n",
      "Nonvascular Plant     333\n",
      "Reptile                79\n",
      "Vascular Plant       4470\n",
      "dtype: int64\n"
     ]
    }
   ],
   "source": [
    "print(species_info.groupby('category').size())"
   ]
  },
  {
   "cell_type": "markdown",
   "metadata": {},
   "source": [
    "Vascular plants are by far the largest category in the data, with the smallest being Reptile closely followed by Amphibian."
   ]
  },
  {
   "cell_type": "markdown",
   "metadata": {},
   "source": [
    "We'll now explore the conservation status column. "
   ]
  },
  {
   "cell_type": "code",
   "execution_count": 8,
   "metadata": {},
   "outputs": [
    {
     "name": "stdout",
     "output_type": "stream",
     "text": [
      "The number of unique values in the category column is  4 , they are as follows:  [nan 'Species of Concern' 'Endangered' 'Threatened' 'In Recovery']\n"
     ]
    }
   ],
   "source": [
    "print('The number of unique values in the category column is ', species_info.conservation_status.nunique(), ', they are as follows: ', species_info.conservation_status.unique())"
   ]
  },
  {
   "cell_type": "code",
   "execution_count": 9,
   "metadata": {},
   "outputs": [
    {
     "name": "stdout",
     "output_type": "stream",
     "text": [
      "The number of NaN values in the data set is  5633\n"
     ]
    }
   ],
   "source": [
    "print('The number of NaN values in the data set is ', species_info.conservation_status.isna().sum())"
   ]
  },
  {
   "cell_type": "markdown",
   "metadata": {},
   "source": [
    "This figure means that there are 5633 species whose status is of no concern. Let's see about the others"
   ]
  },
  {
   "cell_type": "code",
   "execution_count": 10,
   "metadata": {},
   "outputs": [
    {
     "data": {
      "text/plain": [
       "conservation_status\n",
       "Endangered             16\n",
       "In Recovery             4\n",
       "Species of Concern    161\n",
       "Threatened             10\n",
       "dtype: int64"
      ]
     },
     "execution_count": 10,
     "metadata": {},
     "output_type": "execute_result"
    }
   ],
   "source": [
    "species_info.groupby('conservation_status').size()"
   ]
  },
  {
   "cell_type": "markdown",
   "metadata": {},
   "source": [
    "This data tells us that those in recovery are the fewest and those of concern are the greatest."
   ]
  },
  {
   "cell_type": "markdown",
   "metadata": {},
   "source": [
    "The number of parks and the names of the parks:"
   ]
  },
  {
   "cell_type": "code",
   "execution_count": 11,
   "metadata": {},
   "outputs": [
    {
     "data": {
      "text/plain": [
       "array(['Great Smoky Mountains National Park', 'Yosemite National Park',\n",
       "       'Bryce National Park', 'Yellowstone National Park'], dtype=object)"
      ]
     },
     "execution_count": 11,
     "metadata": {},
     "output_type": "execute_result"
    }
   ],
   "source": [
    "observations.park_name.nunique()\n",
    "observations.park_name.unique()"
   ]
  },
  {
   "cell_type": "markdown",
   "metadata": {},
   "source": [
    "What are the total number of observations in the whole observations dataset?"
   ]
  },
  {
   "cell_type": "code",
   "execution_count": 12,
   "metadata": {},
   "outputs": [
    {
     "name": "stdout",
     "output_type": "stream",
     "text": [
      "The total number of observations made across all species is  3314739\n"
     ]
    }
   ],
   "source": [
    "print('The total number of observations made across all species is ', observations.observations.sum())"
   ]
  },
  {
   "cell_type": "markdown",
   "metadata": {},
   "source": [
    "## Now let's perfom some analysis on our data..."
   ]
  },
  {
   "cell_type": "markdown",
   "metadata": {},
   "source": [
    "First we will conver the NaN values in the conservation status row to 'No Concern'."
   ]
  },
  {
   "cell_type": "code",
   "execution_count": 13,
   "metadata": {},
   "outputs": [],
   "source": [
    "species_info.fillna('No Concern', inplace=True)\n",
    "species_info.groupby('conservation_status').size()\n",
    "species_info['is_protected'] = species_info['conservation_status'] != 'No Concern'"
   ]
  },
  {
   "cell_type": "code",
   "execution_count": 14,
   "metadata": {},
   "outputs": [],
   "source": [
    "conservation_species = species_info[species_info.conservation_status != 'No Concern'].groupby(['conservation_status', 'category'])['scientific_name'].count().unstack()\n"
   ]
  },
  {
   "cell_type": "markdown",
   "metadata": {},
   "source": [
    "By grouping the data by conservation_status and category, we can see that of the endagered species, there is 1 amphibian, 4 birds, 3 fish and 7 mammals. Of the in recovery species, there are 3 birds and 1 mammal. For the species of concern status, there are 72 birds and 28 mammals. These are by far the highest figures in the table. "
   ]
  },
  {
   "cell_type": "markdown",
   "metadata": {},
   "source": [
    "In order to be more precise with our conservation_status, I'll categorize the values. If the values are of no concern, the species is not protected. Any other category and they are considered protectd. "
   ]
  },
  {
   "cell_type": "code",
   "execution_count": 15,
   "metadata": {},
   "outputs": [],
   "source": [
    "species_info['is_protected'] = species_info.conservation_status != 'No Concern'\n"
   ]
  },
  {
   "cell_type": "code",
   "execution_count": 16,
   "metadata": {},
   "outputs": [
    {
     "data": {
      "text/html": [
       "<div>\n",
       "<style scoped>\n",
       "    .dataframe tbody tr th:only-of-type {\n",
       "        vertical-align: middle;\n",
       "    }\n",
       "\n",
       "    .dataframe tbody tr th {\n",
       "        vertical-align: top;\n",
       "    }\n",
       "\n",
       "    .dataframe thead th {\n",
       "        text-align: right;\n",
       "    }\n",
       "</style>\n",
       "<table border=\"1\" class=\"dataframe\">\n",
       "  <thead>\n",
       "    <tr style=\"text-align: right;\">\n",
       "      <th></th>\n",
       "      <th>category</th>\n",
       "      <th>not_protected</th>\n",
       "      <th>protected</th>\n",
       "      <th>percent_protected</th>\n",
       "    </tr>\n",
       "  </thead>\n",
       "  <tbody>\n",
       "    <tr>\n",
       "      <th>0</th>\n",
       "      <td>Amphibian</td>\n",
       "      <td>72</td>\n",
       "      <td>7</td>\n",
       "      <td>8.860759</td>\n",
       "    </tr>\n",
       "    <tr>\n",
       "      <th>1</th>\n",
       "      <td>Bird</td>\n",
       "      <td>413</td>\n",
       "      <td>75</td>\n",
       "      <td>15.368852</td>\n",
       "    </tr>\n",
       "    <tr>\n",
       "      <th>2</th>\n",
       "      <td>Fish</td>\n",
       "      <td>115</td>\n",
       "      <td>11</td>\n",
       "      <td>8.730159</td>\n",
       "    </tr>\n",
       "    <tr>\n",
       "      <th>3</th>\n",
       "      <td>Mammal</td>\n",
       "      <td>146</td>\n",
       "      <td>30</td>\n",
       "      <td>17.045455</td>\n",
       "    </tr>\n",
       "    <tr>\n",
       "      <th>4</th>\n",
       "      <td>Nonvascular Plant</td>\n",
       "      <td>328</td>\n",
       "      <td>5</td>\n",
       "      <td>1.501502</td>\n",
       "    </tr>\n",
       "    <tr>\n",
       "      <th>5</th>\n",
       "      <td>Reptile</td>\n",
       "      <td>73</td>\n",
       "      <td>5</td>\n",
       "      <td>6.410256</td>\n",
       "    </tr>\n",
       "    <tr>\n",
       "      <th>6</th>\n",
       "      <td>Vascular Plant</td>\n",
       "      <td>4216</td>\n",
       "      <td>46</td>\n",
       "      <td>1.079305</td>\n",
       "    </tr>\n",
       "  </tbody>\n",
       "</table>\n",
       "</div>"
      ],
      "text/plain": [
       "            category  not_protected  protected  percent_protected\n",
       "0          Amphibian             72          7           8.860759\n",
       "1               Bird            413         75          15.368852\n",
       "2               Fish            115         11           8.730159\n",
       "3             Mammal            146         30          17.045455\n",
       "4  Nonvascular Plant            328          5           1.501502\n",
       "5            Reptile             73          5           6.410256\n",
       "6     Vascular Plant           4216         46           1.079305"
      ]
     },
     "execution_count": 16,
     "metadata": {},
     "output_type": "execute_result"
    }
   ],
   "source": [
    "category_count = species_info.groupby(['category', 'is_protected'])\\\n",
    "                            .scientific_name.nunique().reset_index()\\\n",
    "                            .pivot(index='category', columns='is_protected', values='scientific_name').reset_index()\n",
    "\n",
    "category_count.columns = ['category', 'not_protected', 'protected']\n",
    "category_count['percent_protected'] = category_count.protected / (category_count.not_protected + category_count.protected) * 100\n",
    "category_count"
   ]
  },
  {
   "cell_type": "markdown",
   "metadata": {},
   "source": [
    "The category with the highest number of protected species is mammals, followed by birds and then amphibians\n",
    "Let's plot a barchat to visualize this"
   ]
  },
  {
   "cell_type": "code",
   "execution_count": 80,
   "metadata": {},
   "outputs": [
    {
     "data": {
      "image/png": "[encoded data removed]",
      "text/plain": [
       "<Figure size 720x576 with 1 Axes>"
      ]
     },
     "metadata": {},
     "output_type": "display_data"
    }
   ],
   "source": [
    "fig, ax = plt.subplots(figsize=(10, 8))\n",
    "plt.title('Different groups by proportion protected')\n",
    "ax.bar(range(len(category_count.percent_protected)), category_count.percent_protected, color='Purple')\n",
    "ax.set_xticks(range(len(category_count.percent_protected)));\n",
    "ax.set_xticklabels(category_count.category)\n",
    "ax.grid()\n",
    "plt.show()"
   ]
  },
  {
   "cell_type": "markdown",
   "metadata": {},
   "source": [
    "This plot shows us that the highest proportion of protected category are the mammals. The lowest being the vascular plants. "
   ]
  },
  {
   "cell_type": "markdown",
   "metadata": {},
   "source": [
    "Now we look at statistical significance to determine whether or not, with a significance threshold of 0.05, that mammals and birds are statistically significant. "
   ]
  },
  {
   "cell_type": "code",
   "execution_count": 18,
   "metadata": {},
   "outputs": [
    {
     "name": "stdout",
     "output_type": "stream",
     "text": [
      "The p value is  0.6875948096661336\n"
     ]
    }
   ],
   "source": [
    "from scipy.stats import chi2_contingency\n",
    "contingency1 = [[30, 146], [75, 413]]\n",
    "chi2, pval, dof, expected = chi2_contingency(contingency1)\n",
    "print('The p value is ', pval)"
   ]
  },
  {
   "cell_type": "markdown",
   "metadata": {},
   "source": [
    "This p value is above 0.05 (our significane threshold) and therefore they are not significant. Let's now look at reptiles and mammals."
   ]
  },
  {
   "cell_type": "code",
   "execution_count": 19,
   "metadata": {},
   "outputs": [
    {
     "name": "stdout",
     "output_type": "stream",
     "text": [
      "The p value is  0.03835559022969898\n"
     ]
    }
   ],
   "source": [
    "\n",
    "contingency2 = [[5, 73], [30, 146]]\n",
    "\n",
    "chi2, pval, dof, expected = chi2_contingency(contingency2)\n",
    "print('The p value is ', pval)\n"
   ]
  },
  {
   "cell_type": "markdown",
   "metadata": {},
   "source": [
    "This is below our 0.05 threshold and therefore significant. The proportion of mammals that are protected is significantly higher than reptiles"
   ]
  },
  {
   "cell_type": "markdown",
   "metadata": {},
   "source": [
    "We will now look at the observations made in the last 7 days across the four parks. \n"
   ]
  },
  {
   "cell_type": "code",
   "execution_count": 20,
   "metadata": {},
   "outputs": [
    {
     "data": {
      "text/html": [
       "<div>\n",
       "<style scoped>\n",
       "    .dataframe tbody tr th:only-of-type {\n",
       "        vertical-align: middle;\n",
       "    }\n",
       "\n",
       "    .dataframe tbody tr th {\n",
       "        vertical-align: top;\n",
       "    }\n",
       "\n",
       "    .dataframe thead th {\n",
       "        text-align: right;\n",
       "    }\n",
       "</style>\n",
       "<table border=\"1\" class=\"dataframe\">\n",
       "  <thead>\n",
       "    <tr style=\"text-align: right;\">\n",
       "      <th></th>\n",
       "      <th>category</th>\n",
       "      <th>scientific_name</th>\n",
       "      <th>common_names</th>\n",
       "      <th>conservation_status</th>\n",
       "      <th>is_protected</th>\n",
       "    </tr>\n",
       "  </thead>\n",
       "  <tbody>\n",
       "    <tr>\n",
       "      <th>0</th>\n",
       "      <td>Mammal</td>\n",
       "      <td>Clethrionomys gapperi gapperi</td>\n",
       "      <td>Gapper's Red-Backed Vole</td>\n",
       "      <td>No Concern</td>\n",
       "      <td>False</td>\n",
       "    </tr>\n",
       "    <tr>\n",
       "      <th>1</th>\n",
       "      <td>Mammal</td>\n",
       "      <td>Bos bison</td>\n",
       "      <td>American Bison, Bison</td>\n",
       "      <td>No Concern</td>\n",
       "      <td>False</td>\n",
       "    </tr>\n",
       "    <tr>\n",
       "      <th>2</th>\n",
       "      <td>Mammal</td>\n",
       "      <td>Bos taurus</td>\n",
       "      <td>Aurochs, Aurochs, Domestic Cattle (Feral), Dom...</td>\n",
       "      <td>No Concern</td>\n",
       "      <td>False</td>\n",
       "    </tr>\n",
       "    <tr>\n",
       "      <th>3</th>\n",
       "      <td>Mammal</td>\n",
       "      <td>Ovis aries</td>\n",
       "      <td>Domestic Sheep, Mouflon, Red Sheep, Sheep (Feral)</td>\n",
       "      <td>No Concern</td>\n",
       "      <td>False</td>\n",
       "    </tr>\n",
       "    <tr>\n",
       "      <th>4</th>\n",
       "      <td>Mammal</td>\n",
       "      <td>Cervus elaphus</td>\n",
       "      <td>Wapiti Or Elk</td>\n",
       "      <td>No Concern</td>\n",
       "      <td>False</td>\n",
       "    </tr>\n",
       "  </tbody>\n",
       "</table>\n",
       "</div>"
      ],
      "text/plain": [
       "  category                scientific_name  \\\n",
       "0   Mammal  Clethrionomys gapperi gapperi   \n",
       "1   Mammal                      Bos bison   \n",
       "2   Mammal                     Bos taurus   \n",
       "3   Mammal                     Ovis aries   \n",
       "4   Mammal                 Cervus elaphus   \n",
       "\n",
       "                                        common_names conservation_status  \\\n",
       "0                           Gapper's Red-Backed Vole          No Concern   \n",
       "1                              American Bison, Bison          No Concern   \n",
       "2  Aurochs, Aurochs, Domestic Cattle (Feral), Dom...          No Concern   \n",
       "3  Domestic Sheep, Mouflon, Red Sheep, Sheep (Feral)          No Concern   \n",
       "4                                      Wapiti Or Elk          No Concern   \n",
       "\n",
       "   is_protected  \n",
       "0         False  \n",
       "1         False  \n",
       "2         False  \n",
       "3         False  \n",
       "4         False  "
      ]
     },
     "execution_count": 20,
     "metadata": {},
     "output_type": "execute_result"
    }
   ],
   "source": [
    "species_info.head()"
   ]
  },
  {
   "cell_type": "markdown",
   "metadata": {},
   "source": [
    "Firstly, let's look at the distributions of each park. we can do so using a violin plot. "
   ]
  },
  {
   "cell_type": "code",
   "execution_count": 81,
   "metadata": {},
   "outputs": [
    {
     "data": {
      "text/plain": [
       "Text(0.5, 1.0, 'The distribtuion of various park observations')"
      ]
     },
     "execution_count": 81,
     "metadata": {},
     "output_type": "execute_result"
    },
    {
     "data": {
      "image/png": "[encoded data removed]",
      "text/plain": [
       "<Figure size 864x576 with 1 Axes>"
      ]
     },
     "metadata": {},
     "output_type": "display_data"
    }
   ],
   "source": [
    "## plot violinplot\n",
    "fig, ax = plt.subplots(figsize=(12, 8))\n",
    "sns.violinplot(x = 'park_name', y = 'observations', data = observations, palette = 'pastel')\n",
    "plt.title('The distribtuion of various park observations')\n"
   ]
  },
  {
   "cell_type": "markdown",
   "metadata": {},
   "source": [
    "This data tells us that the Yellowstone National Park had the highest number of observations, whereas the Great Smoky Mountains National Park had the fewest observations in the last 7 days. All the parks have a similiar unimodal distribution. Let's find out which mammal species are most popular at each park "
   ]
  },
  {
   "cell_type": "code",
   "execution_count": 22,
   "metadata": {},
   "outputs": [],
   "source": [
    "species_info.head()\n",
    "from itertools import chain\n",
    "import string\n",
    "def clean_punctuation(text):\n",
    "    for punctuation in string.punctuation:\n",
    "        text = text.replace(punctuation, '')\n",
    "    return text\n",
    "names = species_info[species_info['category'] == 'Mammal'].common_names.apply(clean_punctuation).str.split().tolist()\n",
    "clean_rows = []\n",
    "for x in names:\n",
    "    x = list(dict.fromkeys(x))\n",
    "    clean_rows.append(x)\n",
    "\n",
    "    \n",
    "animal = list(chain.from_iterable(i if isinstance(i, list) else [i] for i in clean_rows))\n",
    "\n",
    "#Now we have a list of each animal we can see which appear most frequently\n",
    "words_counted = []\n",
    "for i in animal:\n",
    "    count = animal.count(i)\n",
    "    words_counted.append((i, count))\n",
    "    \n",
    "animal_count = pd.DataFrame(set(words_counted), columns=['Animal', 'Count']).sort_values('Count', ascending=False)\n",
    "\n"
   ]
  },
  {
   "cell_type": "markdown",
   "metadata": {},
   "source": [
    "Bat appears to appear the most frequently in common value names. Let's create a new column"
   ]
  },
  {
   "cell_type": "code",
   "execution_count": 23,
   "metadata": {},
   "outputs": [
    {
     "data": {
      "text/plain": [
       "23"
      ]
     },
     "execution_count": 23,
     "metadata": {},
     "output_type": "execute_result"
    }
   ],
   "source": [
    "species_info['is_bat'] = species_info.common_names.str.contains(r\"\\bBat\\b\", regex = True)\n",
    "\n",
    "bats = species_info[species_info['is_bat']]\n",
    "bats.common_names.nunique()\n"
   ]
  },
  {
   "cell_type": "markdown",
   "metadata": {},
   "source": [
    "There are 23 species of bat across four parks. That's a lot of types of bat! Let's look at how they are observed by merging the observations data. "
   ]
  },
  {
   "cell_type": "code",
   "execution_count": 43,
   "metadata": {},
   "outputs": [
    {
     "data": {
      "text/html": [
       "<div>\n",
       "<style scoped>\n",
       "    .dataframe tbody tr th:only-of-type {\n",
       "        vertical-align: middle;\n",
       "    }\n",
       "\n",
       "    .dataframe tbody tr th {\n",
       "        vertical-align: top;\n",
       "    }\n",
       "\n",
       "    .dataframe thead th {\n",
       "        text-align: right;\n",
       "    }\n",
       "</style>\n",
       "<table border=\"1\" class=\"dataframe\">\n",
       "  <thead>\n",
       "    <tr style=\"text-align: right;\">\n",
       "      <th></th>\n",
       "      <th>scientific_name</th>\n",
       "      <th>park_name</th>\n",
       "      <th>observations</th>\n",
       "      <th>category</th>\n",
       "      <th>common_names</th>\n",
       "      <th>conservation_status</th>\n",
       "      <th>is_protected</th>\n",
       "      <th>is_bat</th>\n",
       "    </tr>\n",
       "  </thead>\n",
       "  <tbody>\n",
       "    <tr>\n",
       "      <th>0</th>\n",
       "      <td>Lasiurus blossevillii</td>\n",
       "      <td>Bryce National Park</td>\n",
       "      <td>113</td>\n",
       "      <td>Mammal</td>\n",
       "      <td>Western Red Bat</td>\n",
       "      <td>Species of Concern</td>\n",
       "      <td>True</td>\n",
       "      <td>True</td>\n",
       "    </tr>\n",
       "    <tr>\n",
       "      <th>1</th>\n",
       "      <td>Lasiurus blossevillii</td>\n",
       "      <td>Great Smoky Mountains National Park</td>\n",
       "      <td>70</td>\n",
       "      <td>Mammal</td>\n",
       "      <td>Western Red Bat</td>\n",
       "      <td>Species of Concern</td>\n",
       "      <td>True</td>\n",
       "      <td>True</td>\n",
       "    </tr>\n",
       "    <tr>\n",
       "      <th>2</th>\n",
       "      <td>Lasiurus blossevillii</td>\n",
       "      <td>Yosemite National Park</td>\n",
       "      <td>123</td>\n",
       "      <td>Mammal</td>\n",
       "      <td>Western Red Bat</td>\n",
       "      <td>Species of Concern</td>\n",
       "      <td>True</td>\n",
       "      <td>True</td>\n",
       "    </tr>\n",
       "    <tr>\n",
       "      <th>3</th>\n",
       "      <td>Lasiurus blossevillii</td>\n",
       "      <td>Yellowstone National Park</td>\n",
       "      <td>221</td>\n",
       "      <td>Mammal</td>\n",
       "      <td>Western Red Bat</td>\n",
       "      <td>Species of Concern</td>\n",
       "      <td>True</td>\n",
       "      <td>True</td>\n",
       "    </tr>\n",
       "    <tr>\n",
       "      <th>4</th>\n",
       "      <td>Corynorhinus rafinesquii</td>\n",
       "      <td>Yosemite National Park</td>\n",
       "      <td>188</td>\n",
       "      <td>Mammal</td>\n",
       "      <td>Rafinesque's Big-Eared Bat</td>\n",
       "      <td>No Concern</td>\n",
       "      <td>False</td>\n",
       "      <td>True</td>\n",
       "    </tr>\n",
       "    <tr>\n",
       "      <th>...</th>\n",
       "      <td>...</td>\n",
       "      <td>...</td>\n",
       "      <td>...</td>\n",
       "      <td>...</td>\n",
       "      <td>...</td>\n",
       "      <td>...</td>\n",
       "      <td>...</td>\n",
       "      <td>...</td>\n",
       "    </tr>\n",
       "    <tr>\n",
       "      <th>139</th>\n",
       "      <td>Myotis sodalis</td>\n",
       "      <td>Yellowstone National Park</td>\n",
       "      <td>68</td>\n",
       "      <td>Mammal</td>\n",
       "      <td>Indiana Bat, Indiana Or Social Myotis</td>\n",
       "      <td>Endangered</td>\n",
       "      <td>True</td>\n",
       "      <td>True</td>\n",
       "    </tr>\n",
       "    <tr>\n",
       "      <th>140</th>\n",
       "      <td>Myotis leibii</td>\n",
       "      <td>Yosemite National Park</td>\n",
       "      <td>132</td>\n",
       "      <td>Mammal</td>\n",
       "      <td>Eastern Small-Footed Bat, Eastern Small-Footed...</td>\n",
       "      <td>Species of Concern</td>\n",
       "      <td>True</td>\n",
       "      <td>True</td>\n",
       "    </tr>\n",
       "    <tr>\n",
       "      <th>141</th>\n",
       "      <td>Myotis leibii</td>\n",
       "      <td>Bryce National Park</td>\n",
       "      <td>84</td>\n",
       "      <td>Mammal</td>\n",
       "      <td>Eastern Small-Footed Bat, Eastern Small-Footed...</td>\n",
       "      <td>Species of Concern</td>\n",
       "      <td>True</td>\n",
       "      <td>True</td>\n",
       "    </tr>\n",
       "    <tr>\n",
       "      <th>142</th>\n",
       "      <td>Myotis leibii</td>\n",
       "      <td>Great Smoky Mountains National Park</td>\n",
       "      <td>49</td>\n",
       "      <td>Mammal</td>\n",
       "      <td>Eastern Small-Footed Bat, Eastern Small-Footed...</td>\n",
       "      <td>Species of Concern</td>\n",
       "      <td>True</td>\n",
       "      <td>True</td>\n",
       "    </tr>\n",
       "    <tr>\n",
       "      <th>143</th>\n",
       "      <td>Myotis leibii</td>\n",
       "      <td>Yellowstone National Park</td>\n",
       "      <td>233</td>\n",
       "      <td>Mammal</td>\n",
       "      <td>Eastern Small-Footed Bat, Eastern Small-Footed...</td>\n",
       "      <td>Species of Concern</td>\n",
       "      <td>True</td>\n",
       "      <td>True</td>\n",
       "    </tr>\n",
       "  </tbody>\n",
       "</table>\n",
       "<p>144 rows × 8 columns</p>\n",
       "</div>"
      ],
      "text/plain": [
       "              scientific_name                            park_name  \\\n",
       "0       Lasiurus blossevillii                  Bryce National Park   \n",
       "1       Lasiurus blossevillii  Great Smoky Mountains National Park   \n",
       "2       Lasiurus blossevillii               Yosemite National Park   \n",
       "3       Lasiurus blossevillii            Yellowstone National Park   \n",
       "4    Corynorhinus rafinesquii               Yosemite National Park   \n",
       "..                        ...                                  ...   \n",
       "139            Myotis sodalis            Yellowstone National Park   \n",
       "140             Myotis leibii               Yosemite National Park   \n",
       "141             Myotis leibii                  Bryce National Park   \n",
       "142             Myotis leibii  Great Smoky Mountains National Park   \n",
       "143             Myotis leibii            Yellowstone National Park   \n",
       "\n",
       "     observations category                                       common_names  \\\n",
       "0             113   Mammal                                    Western Red Bat   \n",
       "1              70   Mammal                                    Western Red Bat   \n",
       "2             123   Mammal                                    Western Red Bat   \n",
       "3             221   Mammal                                    Western Red Bat   \n",
       "4             188   Mammal                         Rafinesque's Big-Eared Bat   \n",
       "..            ...      ...                                                ...   \n",
       "139            68   Mammal              Indiana Bat, Indiana Or Social Myotis   \n",
       "140           132   Mammal  Eastern Small-Footed Bat, Eastern Small-Footed...   \n",
       "141            84   Mammal  Eastern Small-Footed Bat, Eastern Small-Footed...   \n",
       "142            49   Mammal  Eastern Small-Footed Bat, Eastern Small-Footed...   \n",
       "143           233   Mammal  Eastern Small-Footed Bat, Eastern Small-Footed...   \n",
       "\n",
       "    conservation_status  is_protected  is_bat  \n",
       "0    Species of Concern          True    True  \n",
       "1    Species of Concern          True    True  \n",
       "2    Species of Concern          True    True  \n",
       "3    Species of Concern          True    True  \n",
       "4            No Concern         False    True  \n",
       "..                  ...           ...     ...  \n",
       "139          Endangered          True    True  \n",
       "140  Species of Concern          True    True  \n",
       "141  Species of Concern          True    True  \n",
       "142  Species of Concern          True    True  \n",
       "143  Species of Concern          True    True  \n",
       "\n",
       "[144 rows x 8 columns]"
      ]
     },
     "execution_count": 43,
     "metadata": {},
     "output_type": "execute_result"
    }
   ],
   "source": [
    "bat_observations = observations.merge(bats)\n",
    "bat_observations.groupby('park_name').observations.sum().reset_index()\n",
    "bat_observations"
   ]
  },
  {
   "cell_type": "markdown",
   "metadata": {},
   "source": [
    "The park with the most bats is the Yellowstone national park. This park also had the highest number of general observations. Either it is a larger park than the others or it has greater biodiveristy. Let's compare the bats in different parks, seeing whether or not they are protected. "
   ]
  },
  {
   "cell_type": "code",
   "execution_count": 73,
   "metadata": {},
   "outputs": [
    {
     "data": {
      "image/png": "[encoded data removed]",
      "text/plain": [
       "<Figure size 1152x576 with 1 Axes>"
      ]
     },
     "metadata": {},
     "output_type": "display_data"
    }
   ],
   "source": [
    "observation_park = bat_observations.groupby(['common_names', 'is_protected', 'park_name']).observations.sum().reset_index()\n",
    "plt.style.use('ggplot')\n",
    "plt.figure(figsize=(16, 8))\n",
    "sns.barplot(x=observation_park.park_name, y= observation_park.observations, hue=observation_park.is_protected)\n",
    "plt.xlabel('National Parks')\n",
    "plt.ylabel('Number of Observations')\n",
    "plt.title('Observations of Bats per Week')\n",
    "plt.show()"
   ]
  },
  {
   "cell_type": "markdown",
   "metadata": {},
   "source": [
    "The Yellowstone National Park has the best cnservation of bats, those both protected as well as not protected. All the parks except Bryce National Park have a higher number of protected bats than non-protected bats.  "
   ]
  },
  {
   "cell_type": "code",
   "execution_count": 44,
   "metadata": {},
   "outputs": [],
   "source": [
    "bats_ranked = bat_observations.sort_values('observations', ascending=False)"
   ]
  },
  {
   "cell_type": "markdown",
   "metadata": {},
   "source": [
    "Here, the most common bat is the Little Brown Bat. Let's see which park bats are most commonly found at. \n"
   ]
  },
  {
   "cell_type": "code",
   "execution_count": 48,
   "metadata": {},
   "outputs": [
    {
     "data": {
      "text/html": [
       "<div>\n",
       "<style scoped>\n",
       "    .dataframe tbody tr th:only-of-type {\n",
       "        vertical-align: middle;\n",
       "    }\n",
       "\n",
       "    .dataframe tbody tr th {\n",
       "        vertical-align: top;\n",
       "    }\n",
       "\n",
       "    .dataframe thead th {\n",
       "        text-align: right;\n",
       "    }\n",
       "</style>\n",
       "<table border=\"1\" class=\"dataframe\">\n",
       "  <thead>\n",
       "    <tr style=\"text-align: right;\">\n",
       "      <th></th>\n",
       "      <th>park_name</th>\n",
       "      <th>observations</th>\n",
       "      <th>is_protected</th>\n",
       "      <th>is_bat</th>\n",
       "    </tr>\n",
       "  </thead>\n",
       "  <tbody>\n",
       "    <tr>\n",
       "      <th>0</th>\n",
       "      <td>Bryce National Park</td>\n",
       "      <td>3433</td>\n",
       "      <td>20</td>\n",
       "      <td>36</td>\n",
       "    </tr>\n",
       "    <tr>\n",
       "      <th>1</th>\n",
       "      <td>Great Smoky Mountains National Park</td>\n",
       "      <td>2411</td>\n",
       "      <td>20</td>\n",
       "      <td>36</td>\n",
       "    </tr>\n",
       "    <tr>\n",
       "      <th>2</th>\n",
       "      <td>Yellowstone National Park</td>\n",
       "      <td>8362</td>\n",
       "      <td>20</td>\n",
       "      <td>36</td>\n",
       "    </tr>\n",
       "    <tr>\n",
       "      <th>3</th>\n",
       "      <td>Yosemite National Park</td>\n",
       "      <td>4786</td>\n",
       "      <td>20</td>\n",
       "      <td>36</td>\n",
       "    </tr>\n",
       "  </tbody>\n",
       "</table>\n",
       "</div>"
      ],
      "text/plain": [
       "                             park_name  observations  is_protected  is_bat\n",
       "0                  Bryce National Park          3433            20      36\n",
       "1  Great Smoky Mountains National Park          2411            20      36\n",
       "2            Yellowstone National Park          8362            20      36\n",
       "3               Yosemite National Park          4786            20      36"
      ]
     },
     "execution_count": 48,
     "metadata": {},
     "output_type": "execute_result"
    }
   ],
   "source": [
    "bats_by_park = bat_observations.groupby('park_name').sum().reset_index()\n",
    "bats_by_park"
   ]
  },
  {
   "cell_type": "markdown",
   "metadata": {},
   "source": [
    "Clearly, the most common park for bats is the Yellowstone National park, let's visualize this data with a barchart."
   ]
  },
  {
   "cell_type": "code",
   "execution_count": 72,
   "metadata": {},
   "outputs": [
    {
     "data": {
      "image/png": "[encoded data removed]",
      "text/plain": [
       "<Figure size 429.125x360 with 1 Axes>"
      ]
     },
     "metadata": {},
     "output_type": "display_data"
    }
   ],
   "source": [
    "park_names = ['Yellowstone National Park', 'Yosemite National Park', 'Bryce National Park', 'Great Smoky Mountains National Park']\n",
    "ax = sns.catplot(kind = 'bar', data = bat_observations, x = 'park_name', y = 'observations', order=park_names, hue = 'is_protected');\n",
    "plt.style.use('ggplot')\n",
    "plt.xlabel('Park name')\n",
    "plt.ylabel('Observations')\n",
    "plt.title('Observations of bats by park or')\n",
    "ax.set_xticklabels(park_names, rotation = 45);\n",
    "\n"
   ]
  },
  {
   "cell_type": "markdown",
   "metadata": {},
   "source": [
    "This plot tells us that that the Yellowstone National Park has almost twice as many observations as the next, Yosemite National Park. We can see clearly also the distinction between those protected and those non protected bats, with those not protected making up the greater share of the observation sum for each park. "
   ]
  },
  {
   "cell_type": "markdown",
   "metadata": {},
   "source": [
    "## Conclusions"
   ]
  },
  {
   "cell_type": "markdown",
   "metadata": {},
   "source": [
    "The data provided insights into the species that exist in four parks across the United States. Althought he observations data was only the past 7 days, it would be more helpful to have more recent data collected. Although the following conclusions were drawn. \n",
    "1. What is the distribution of conservation_status for animals?\n",
    "\n",
    "There were 191 species in conservation and 5,633 species who are of no concen with regards to their consevation status. There were 16 endangered species, 4 in recovery, 10 threated and 161 species of concern.\n",
    "                  \n",
    "2. Are certain types of species more likely to be endangered?\n",
    "Mammals and Birds had the highest number of endangered species. The lowest were vascular plants.\n",
    "\n",
    "3. Are the differences between species and their conservation status significant?\n",
    "\n",
    "We calculated a statistically different conservation status between mammals reptiles however none between mammals and birds. \n",
    "\n",
    "4. Which species were spotted the most at each park?\n",
    "\n",
    "The most commonly obserced species were bats. They were most likely to be seen at Yellowstone National Park. "
   ]
  },
  {
   "cell_type": "code",
   "execution_count": null,
   "metadata": {},
   "outputs": [],
   "source": []
  }
 ],
 "metadata": {
  "kernelspec": {
   "display_name": "Python 3",
   "language": "python",
   "name": "python3"
  },
  "language_info": {
   "codemirror_mode": {
    "name": "ipython",
    "version": 3
   },
   "file_extension": ".py",
   "mimetype": "text/x-python",
   "name": "python",
   "nbconvert_exporter": "python",
   "pygments_lexer": "ipython3",
   "version": "3.9.1"
  }
 },
 "nbformat": 4,
 "nbformat_minor": 4
}
