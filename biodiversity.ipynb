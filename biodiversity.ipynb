{
 "cells": [
  {
   "cell_type": "markdown",
   "metadata": {},
   "source": [
    "The principle purpose of this project is to investigate whether there are any patterns to the types of species that become endangered. As an biodiveristy analyst for National Parks Service, the goal is to ensure the survival of at risk species. This would be done through maintaining the biodiveristy of the parks. Some questions that are raised in order to achieve this are:\n",
    "1. What is the distribution of conservation_status for animals?\n",
    "2. Are certain types of species more likely to be endangered?\n",
    "3. Are the differences between species and their conservation status significant?\n",
    "4. Which species were spotted the most at each park?"
   ]
  },
  {
   "cell_type": "code",
   "execution_count": 322,
   "metadata": {},
   "outputs": [],
   "source": [
    "import pandas as pd \n",
    "import matplotlib.pyplot as plt \n",
    "import numpy as np \n",
    "import seaborn as sns \n",
    "%matplotlib inline"
   ]
  },
  {
   "cell_type": "code",
   "execution_count": 412,
   "metadata": {},
   "outputs": [],
   "source": [
    "observations = pd.read_csv('observations.csv', encoding = 'utf-8')\n",
    "species_info = pd.read_csv('species_info.csv', encoding = 'utf-8')\n",
    "\n"
   ]
  },
  {
   "cell_type": "markdown",
   "metadata": {},
   "source": [
    "### The observations DataFrame has the following columns:\n",
    "- **scientific_name** - The scientific name of each species\n",
    "- **park_name** - The name of the national park\n",
    "- **observations** - The number of observations in the past 7 days\n",
    "\n",
    "### The species_info DataFrame has the following columns:\n",
    "- **category** - The category of taxonomy for each species\n",
    "- **scientific_name** - The scientific name of each species\n",
    "- **common_names** - The common names of each species\n",
    "- **conservation_status** - The species conservation status"
   ]
  },
  {
   "cell_type": "markdown",
   "metadata": {},
   "source": [
    "Let's explore the data further by seeing what the number of unique species are."
   ]
  },
  {
   "cell_type": "code",
   "execution_count": 331,
   "metadata": {},
   "outputs": [
    {
     "name": "stdout",
     "output_type": "stream",
     "text": [
      "The number of unique species in the species_info dataset is:  5541\n"
     ]
    }
   ],
   "source": [
    "print('The number of unique species in the species_info dataset is: ', species_info.scientific_name.nunique())"
   ]
  },
  {
   "cell_type": "markdown",
   "metadata": {},
   "source": [
    "Now, we want to see the number of categories items in the species_info categories column"
   ]
  },
  {
   "cell_type": "code",
   "execution_count": 332,
   "metadata": {},
   "outputs": [
    {
     "name": "stdout",
     "output_type": "stream",
     "text": [
      "The number of categories are  7 , they are as follows:  ['Mammal' 'Bird' 'Reptile' 'Amphibian' 'Fish' 'Vascular Plant'\n",
      " 'Nonvascular Plant']\n"
     ]
    }
   ],
   "source": [
    "print('The number of categories are ', species_info.category.nunique(), ', they are as follows: ', species_info.category.unique())"
   ]
  },
  {
   "cell_type": "code",
   "execution_count": 333,
   "metadata": {},
   "outputs": [
    {
     "name": "stdout",
     "output_type": "stream",
     "text": [
      "category\n",
      "Amphibian              80\n",
      "Bird                  521\n",
      "Fish                  127\n",
      "Mammal                214\n",
      "Nonvascular Plant     333\n",
      "Reptile                79\n",
      "Vascular Plant       4470\n",
      "dtype: int64\n"
     ]
    }
   ],
   "source": [
    "print(species_info.groupby('category').size())"
   ]
  },
  {
   "cell_type": "markdown",
   "metadata": {},
   "source": [
    "Vascular plants are by far the largest category in the data, with the smallest being Reptile closely followed by Amphibian."
   ]
  },
  {
   "cell_type": "markdown",
   "metadata": {},
   "source": [
    "We'll now explore the conservation status column. "
   ]
  },
  {
   "cell_type": "code",
   "execution_count": 334,
   "metadata": {},
   "outputs": [
    {
     "name": "stdout",
     "output_type": "stream",
     "text": [
      "The number of unique values in the category column is  4 , they are as follows:  [nan 'Species of Concern' 'Endangered' 'Threatened' 'In Recovery']\n"
     ]
    }
   ],
   "source": [
    "print('The number of unique values in the category column is ', species_info.conservation_status.nunique(), ', they are as follows: ', species_info.conservation_status.unique())"
   ]
  },
  {
   "cell_type": "code",
   "execution_count": 336,
   "metadata": {},
   "outputs": [
    {
     "name": "stdout",
     "output_type": "stream",
     "text": [
      "The number of NaN values in the data set is  5633\n"
     ]
    }
   ],
   "source": [
    "print('The number of NaN values in the data set is ', species_info.conservation_status.isna().sum())"
   ]
  },
  {
   "cell_type": "markdown",
   "metadata": {},
   "source": [
    "This figure means that there are 5633 species whose status is of no concern. Let's see about the others"
   ]
  },
  {
   "cell_type": "code",
   "execution_count": 337,
   "metadata": {},
   "outputs": [
    {
     "data": {
      "text/plain": [
       "conservation_status\n",
       "Endangered             16\n",
       "In Recovery             4\n",
       "Species of Concern    161\n",
       "Threatened             10\n",
       "dtype: int64"
      ]
     },
     "execution_count": 337,
     "metadata": {},
     "output_type": "execute_result"
    }
   ],
   "source": [
    "species_info.groupby('conservation_status').size()"
   ]
  },
  {
   "cell_type": "markdown",
   "metadata": {},
   "source": [
    "This data tells us that those in recovery are the fewest and those of concern are the greatest."
   ]
  },
  {
   "cell_type": "markdown",
   "metadata": {},
   "source": [
    "The number of parks and the names of the parks:"
   ]
  },
  {
   "cell_type": "code",
   "execution_count": 341,
   "metadata": {},
   "outputs": [
    {
     "data": {
      "text/plain": [
       "array(['Great Smoky Mountains National Park', 'Yosemite National Park',\n",
       "       'Bryce National Park', 'Yellowstone National Park'], dtype=object)"
      ]
     },
     "execution_count": 341,
     "metadata": {},
     "output_type": "execute_result"
    }
   ],
   "source": [
    "observations.park_name.nunique()\n",
    "observations.park_name.unique()"
   ]
  },
  {
   "cell_type": "markdown",
   "metadata": {},
   "source": [
    "What are the total number of observations in the whole observations dataset?"
   ]
  },
  {
   "cell_type": "code",
   "execution_count": 343,
   "metadata": {},
   "outputs": [
    {
     "name": "stdout",
     "output_type": "stream",
     "text": [
      "The total number of observations made across all species is  3314739\n"
     ]
    }
   ],
   "source": [
    "print('The total number of observations made across all species is ', observations.observations.sum())"
   ]
  },
  {
   "cell_type": "markdown",
   "metadata": {},
   "source": [
    "## Now let's perfom some analysis on our data..."
   ]
  },
  {
   "cell_type": "markdown",
   "metadata": {},
   "source": [
    "First we will conver the NaN values in the conservation status row to 'No Concern'."
   ]
  },
  {
   "cell_type": "code",
   "execution_count": 349,
   "metadata": {},
   "outputs": [
    {
     "data": {
      "text/plain": [
       "conservation_status\n",
       "Endangered              16\n",
       "In Recovery              4\n",
       "No Concern            5633\n",
       "Species of Concern     161\n",
       "Threatened              10\n",
       "dtype: int64"
      ]
     },
     "execution_count": 349,
     "metadata": {},
     "output_type": "execute_result"
    }
   ],
   "source": [
    "species_info.fillna('No Concern', inplace=True)\n",
    "species_info.groupby('conservation_status').size()"
   ]
  },
  {
   "cell_type": "code",
   "execution_count": 358,
   "metadata": {},
   "outputs": [
    {
     "data": {
      "text/html": [
       "<div>\n",
       "<style scoped>\n",
       "    .dataframe tbody tr th:only-of-type {\n",
       "        vertical-align: middle;\n",
       "    }\n",
       "\n",
       "    .dataframe tbody tr th {\n",
       "        vertical-align: top;\n",
       "    }\n",
       "\n",
       "    .dataframe thead th {\n",
       "        text-align: right;\n",
       "    }\n",
       "</style>\n",
       "<table border=\"1\" class=\"dataframe\">\n",
       "  <thead>\n",
       "    <tr style=\"text-align: right;\">\n",
       "      <th>category</th>\n",
       "      <th>Amphibian</th>\n",
       "      <th>Bird</th>\n",
       "      <th>Fish</th>\n",
       "      <th>Mammal</th>\n",
       "      <th>Nonvascular Plant</th>\n",
       "      <th>Reptile</th>\n",
       "      <th>Vascular Plant</th>\n",
       "    </tr>\n",
       "    <tr>\n",
       "      <th>conservation_status</th>\n",
       "      <th></th>\n",
       "      <th></th>\n",
       "      <th></th>\n",
       "      <th></th>\n",
       "      <th></th>\n",
       "      <th></th>\n",
       "      <th></th>\n",
       "    </tr>\n",
       "  </thead>\n",
       "  <tbody>\n",
       "    <tr>\n",
       "      <th>Endangered</th>\n",
       "      <td>1.0</td>\n",
       "      <td>4.0</td>\n",
       "      <td>3.0</td>\n",
       "      <td>7.0</td>\n",
       "      <td>NaN</td>\n",
       "      <td>NaN</td>\n",
       "      <td>1.0</td>\n",
       "    </tr>\n",
       "    <tr>\n",
       "      <th>In Recovery</th>\n",
       "      <td>NaN</td>\n",
       "      <td>3.0</td>\n",
       "      <td>NaN</td>\n",
       "      <td>1.0</td>\n",
       "      <td>NaN</td>\n",
       "      <td>NaN</td>\n",
       "      <td>NaN</td>\n",
       "    </tr>\n",
       "    <tr>\n",
       "      <th>Species of Concern</th>\n",
       "      <td>4.0</td>\n",
       "      <td>72.0</td>\n",
       "      <td>4.0</td>\n",
       "      <td>28.0</td>\n",
       "      <td>5.0</td>\n",
       "      <td>5.0</td>\n",
       "      <td>43.0</td>\n",
       "    </tr>\n",
       "    <tr>\n",
       "      <th>Threatened</th>\n",
       "      <td>2.0</td>\n",
       "      <td>NaN</td>\n",
       "      <td>4.0</td>\n",
       "      <td>2.0</td>\n",
       "      <td>NaN</td>\n",
       "      <td>NaN</td>\n",
       "      <td>2.0</td>\n",
       "    </tr>\n",
       "  </tbody>\n",
       "</table>\n",
       "</div>"
      ],
      "text/plain": [
       "category             Amphibian  Bird  Fish  Mammal  Nonvascular Plant  \\\n",
       "conservation_status                                                     \n",
       "Endangered                 1.0   4.0   3.0     7.0                NaN   \n",
       "In Recovery                NaN   3.0   NaN     1.0                NaN   \n",
       "Species of Concern         4.0  72.0   4.0    28.0                5.0   \n",
       "Threatened                 2.0   NaN   4.0     2.0                NaN   \n",
       "\n",
       "category             Reptile  Vascular Plant  \n",
       "conservation_status                           \n",
       "Endangered               NaN             1.0  \n",
       "In Recovery              NaN             NaN  \n",
       "Species of Concern       5.0            43.0  \n",
       "Threatened               NaN             2.0  "
      ]
     },
     "execution_count": 358,
     "metadata": {},
     "output_type": "execute_result"
    }
   ],
   "source": [
    "conservation_species = species_info[species_info.conservation_status != 'No Concern'].groupby(['conservation_status', 'category'])['scientific_name'].count().unstack()\n",
    "\n",
    "conservation_species"
   ]
  },
  {
   "cell_type": "markdown",
   "metadata": {},
   "source": [
    "By grouping the data by conservation_status and category, we can see that of the endagered species, there is 1 amphibian, 4 birds, 3 fish and 7 mammals. Of the in recovery species, there are 3 birds and 1 mammal. For the species of concern status, there are 72 birds and 28 mammals. These are by far the highest figures in the table. "
   ]
  },
  {
   "cell_type": "markdown",
   "metadata": {},
   "source": [
    "In order to be more precise with our conservation_status, I'll categorize the values. If the values are of no concern, the species is not protected. Any other category and they are considered protectd. "
   ]
  },
  {
   "cell_type": "code",
   "execution_count": 361,
   "metadata": {},
   "outputs": [
    {
     "data": {
      "text/html": [
       "<div>\n",
       "<style scoped>\n",
       "    .dataframe tbody tr th:only-of-type {\n",
       "        vertical-align: middle;\n",
       "    }\n",
       "\n",
       "    .dataframe tbody tr th {\n",
       "        vertical-align: top;\n",
       "    }\n",
       "\n",
       "    .dataframe thead th {\n",
       "        text-align: right;\n",
       "    }\n",
       "</style>\n",
       "<table border=\"1\" class=\"dataframe\">\n",
       "  <thead>\n",
       "    <tr style=\"text-align: right;\">\n",
       "      <th></th>\n",
       "      <th>category</th>\n",
       "      <th>scientific_name</th>\n",
       "      <th>common_names</th>\n",
       "      <th>conservation_status</th>\n",
       "      <th>is_protected</th>\n",
       "    </tr>\n",
       "  </thead>\n",
       "  <tbody>\n",
       "    <tr>\n",
       "      <th>0</th>\n",
       "      <td>Mammal</td>\n",
       "      <td>Clethrionomys gapperi gapperi</td>\n",
       "      <td>Gapper's Red-Backed Vole</td>\n",
       "      <td>No Concern</td>\n",
       "      <td>False</td>\n",
       "    </tr>\n",
       "    <tr>\n",
       "      <th>1</th>\n",
       "      <td>Mammal</td>\n",
       "      <td>Bos bison</td>\n",
       "      <td>American Bison, Bison</td>\n",
       "      <td>No Concern</td>\n",
       "      <td>False</td>\n",
       "    </tr>\n",
       "    <tr>\n",
       "      <th>2</th>\n",
       "      <td>Mammal</td>\n",
       "      <td>Bos taurus</td>\n",
       "      <td>Aurochs, Aurochs, Domestic Cattle (Feral), Dom...</td>\n",
       "      <td>No Concern</td>\n",
       "      <td>False</td>\n",
       "    </tr>\n",
       "    <tr>\n",
       "      <th>3</th>\n",
       "      <td>Mammal</td>\n",
       "      <td>Ovis aries</td>\n",
       "      <td>Domestic Sheep, Mouflon, Red Sheep, Sheep (Feral)</td>\n",
       "      <td>No Concern</td>\n",
       "      <td>False</td>\n",
       "    </tr>\n",
       "    <tr>\n",
       "      <th>4</th>\n",
       "      <td>Mammal</td>\n",
       "      <td>Cervus elaphus</td>\n",
       "      <td>Wapiti Or Elk</td>\n",
       "      <td>No Concern</td>\n",
       "      <td>False</td>\n",
       "    </tr>\n",
       "  </tbody>\n",
       "</table>\n",
       "</div>"
      ],
      "text/plain": [
       "  category                scientific_name  \\\n",
       "0   Mammal  Clethrionomys gapperi gapperi   \n",
       "1   Mammal                      Bos bison   \n",
       "2   Mammal                     Bos taurus   \n",
       "3   Mammal                     Ovis aries   \n",
       "4   Mammal                 Cervus elaphus   \n",
       "\n",
       "                                        common_names conservation_status  \\\n",
       "0                           Gapper's Red-Backed Vole          No Concern   \n",
       "1                              American Bison, Bison          No Concern   \n",
       "2  Aurochs, Aurochs, Domestic Cattle (Feral), Dom...          No Concern   \n",
       "3  Domestic Sheep, Mouflon, Red Sheep, Sheep (Feral)          No Concern   \n",
       "4                                      Wapiti Or Elk          No Concern   \n",
       "\n",
       "   is_protected  \n",
       "0         False  \n",
       "1         False  \n",
       "2         False  \n",
       "3         False  \n",
       "4         False  "
      ]
     },
     "execution_count": 361,
     "metadata": {},
     "output_type": "execute_result"
    }
   ],
   "source": [
    "species_info['is_protected'] = species_info.conservation_status != 'No Concern'\n"
   ]
  },
  {
   "cell_type": "code",
   "execution_count": 395,
   "metadata": {},
   "outputs": [
    {
     "data": {
      "text/html": [
       "<div>\n",
       "<style scoped>\n",
       "    .dataframe tbody tr th:only-of-type {\n",
       "        vertical-align: middle;\n",
       "    }\n",
       "\n",
       "    .dataframe tbody tr th {\n",
       "        vertical-align: top;\n",
       "    }\n",
       "\n",
       "    .dataframe thead th {\n",
       "        text-align: right;\n",
       "    }\n",
       "</style>\n",
       "<table border=\"1\" class=\"dataframe\">\n",
       "  <thead>\n",
       "    <tr style=\"text-align: right;\">\n",
       "      <th></th>\n",
       "      <th>category</th>\n",
       "      <th>not_protected</th>\n",
       "      <th>protected</th>\n",
       "      <th>percent_protected</th>\n",
       "    </tr>\n",
       "  </thead>\n",
       "  <tbody>\n",
       "    <tr>\n",
       "      <th>0</th>\n",
       "      <td>Amphibian</td>\n",
       "      <td>72</td>\n",
       "      <td>7</td>\n",
       "      <td>8.860759</td>\n",
       "    </tr>\n",
       "    <tr>\n",
       "      <th>1</th>\n",
       "      <td>Bird</td>\n",
       "      <td>413</td>\n",
       "      <td>75</td>\n",
       "      <td>15.368852</td>\n",
       "    </tr>\n",
       "    <tr>\n",
       "      <th>2</th>\n",
       "      <td>Fish</td>\n",
       "      <td>115</td>\n",
       "      <td>11</td>\n",
       "      <td>8.730159</td>\n",
       "    </tr>\n",
       "    <tr>\n",
       "      <th>3</th>\n",
       "      <td>Mammal</td>\n",
       "      <td>146</td>\n",
       "      <td>30</td>\n",
       "      <td>17.045455</td>\n",
       "    </tr>\n",
       "    <tr>\n",
       "      <th>4</th>\n",
       "      <td>Nonvascular Plant</td>\n",
       "      <td>328</td>\n",
       "      <td>5</td>\n",
       "      <td>1.501502</td>\n",
       "    </tr>\n",
       "    <tr>\n",
       "      <th>5</th>\n",
       "      <td>Reptile</td>\n",
       "      <td>73</td>\n",
       "      <td>5</td>\n",
       "      <td>6.410256</td>\n",
       "    </tr>\n",
       "    <tr>\n",
       "      <th>6</th>\n",
       "      <td>Vascular Plant</td>\n",
       "      <td>4216</td>\n",
       "      <td>46</td>\n",
       "      <td>1.079305</td>\n",
       "    </tr>\n",
       "  </tbody>\n",
       "</table>\n",
       "</div>"
      ],
      "text/plain": [
       "            category  not_protected  protected  percent_protected\n",
       "0          Amphibian             72          7           8.860759\n",
       "1               Bird            413         75          15.368852\n",
       "2               Fish            115         11           8.730159\n",
       "3             Mammal            146         30          17.045455\n",
       "4  Nonvascular Plant            328          5           1.501502\n",
       "5            Reptile             73          5           6.410256\n",
       "6     Vascular Plant           4216         46           1.079305"
      ]
     },
     "execution_count": 395,
     "metadata": {},
     "output_type": "execute_result"
    }
   ],
   "source": [
    "category_count = species_info.groupby(['category', 'is_protected'])\\\n",
    "                            .scientific_name.nunique().reset_index()\\\n",
    "                            .pivot(index='category', columns='is_protected', values='scientific_name').reset_index()\n",
    "\n",
    "category_count.columns = ['category', 'not_protected', 'protected']\n",
    "category_count['percent_protected'] = category_count.protected / (category_count.not_protected + category_count.protected) * 100\n",
    "category_count"
   ]
  },
  {
   "cell_type": "markdown",
   "metadata": {},
   "source": [
    "The category with the highest number of protected species is mammals, followed by birds and then amphibians\n",
    "Let's plot a barchat to visualize this"
   ]
  },
  {
   "cell_type": "code",
   "execution_count": 394,
   "metadata": {},
   "outputs": [
    {
     "data": {
      "image/png": "[encoded data removed]",
      "text/plain": [
       "<Figure size 720x576 with 1 Axes>"
      ]
     },
     "metadata": {
      "needs_background": "light"
     },
     "output_type": "display_data"
    }
   ],
   "source": [
    "fig, ax = plt.subplots(figsize=(10, 8))\n",
    "ax.bar(range(len(category_count.percent_protected)), category_count.percent_protected, color = \"#4CAF50\")\n",
    "ax.set_xticks(range(len(category_count.percent_protected)));\n",
    "ax.set_xticklabels(category_count.category)\n",
    "ax.grid()\n",
    "plt.show()"
   ]
  },
  {
   "cell_type": "markdown",
   "metadata": {},
   "source": [
    "This plot shows us that the highest proportion of protected category are the mammals. The lowest being the vascular plants. "
   ]
  },
  {
   "cell_type": "markdown",
   "metadata": {},
   "source": [
    "Now we look at statistical significance to determine whether or not, with a significance threshold of 0.05, that mammals and birds are statistically significant. "
   ]
  },
  {
   "cell_type": "code",
   "execution_count": 410,
   "metadata": {},
   "outputs": [
    {
     "name": "stdout",
     "output_type": "stream",
     "text": [
      "The p value is  0.6875948096661336\n"
     ]
    }
   ],
   "source": [
    "from scipy.stats import chi2_contingency\n",
    "contingency1 = [[30, 146], [75, 413]]\n",
    "chi2, pval, dof, expected = chi2_contingency(contingency1)\n",
    "print('The p value is ', pval)"
   ]
  },
  {
   "cell_type": "markdown",
   "metadata": {},
   "source": [
    "This p value is above 0.05 (our significane threshold) and therefore they are not significant. Let's now look at reptiles and mammals."
   ]
  },
  {
   "cell_type": "code",
   "execution_count": 411,
   "metadata": {},
   "outputs": [
    {
     "name": "stdout",
     "output_type": "stream",
     "text": [
      "The p value is  0.03835559022969898\n"
     ]
    }
   ],
   "source": [
    "\n",
    "contingency2 = [[5, 73], [30, 146]]\n",
    "\n",
    "chi2, pval, dof, expected = chi2_contingency(contingency2)\n",
    "print('The p value is ', pval)\n"
   ]
  },
  {
   "cell_type": "markdown",
   "metadata": {},
   "source": [
    "This is below our 0.05 threshold and therefore significant. The proportion of mammals that are protected is significantly higher than reptiles"
   ]
  },
  {
   "cell_type": "markdown",
   "metadata": {},
   "source": [
    "We will now look at the observations made in the last 7 days across the four parks. \n"
   ]
  },
  {
   "cell_type": "markdown",
   "metadata": {},
   "source": []
  },
  {
   "cell_type": "code",
   "execution_count": 294,
   "metadata": {},
   "outputs": [
    {
     "data": {
      "text/plain": [
       "<AxesSubplot:xlabel='conservation_status', ylabel='observations'>"
      ]
     },
     "execution_count": 294,
     "metadata": {},
     "output_type": "execute_result"
    },
    {
     "data": {
      "image/png": "[encoded data removed]",
      "text/plain": [
       "<Figure size 864x576 with 1 Axes>"
      ]
     },
     "metadata": {
      "needs_background": "light"
     },
     "output_type": "display_data"
    }
   ],
   "source": [
    "## plot violinplot\n",
    "fig, ax = plt.subplots(figsize=(12, 8))\n",
    "sns.violinplot(x = 'conservation_status', y = 'observations', data = conservation_status_df, palette = 'pastel')\n"
   ]
  },
  {
   "cell_type": "markdown",
   "metadata": {},
   "source": [
    "The violinplot gives us a little bit more information that the previous boxplot does. It shows us that Species of Concern is bimodal, meaning it has two peaks to its distribution. The endangered species has most of its species in the 0 to 50 observations range. Curiously, those species in recovery tend to be distrubuted fairly evenly. Firstly,  let's visiualize the species of concern distribution on a histogram."
   ]
  },
  {
   "cell_type": "code",
   "execution_count": 259,
   "metadata": {},
   "outputs": [
    {
     "data": {
      "image/png": "[encoded data removed]",
      "text/plain": [
       "<Figure size 432x288 with 1 Axes>"
      ]
     },
     "metadata": {
      "needs_background": "light"
     },
     "output_type": "display_data"
    },
    {
     "data": {
      "text/plain": [
       "<Figure size 432x288 with 0 Axes>"
      ]
     },
     "metadata": {},
     "output_type": "display_data"
    },
    {
     "data": {
      "image/png": "[encoded data removed]",
      "text/plain": [
       "<Figure size 360x360 with 1 Axes>"
      ]
     },
     "metadata": {
      "needs_background": "light"
     },
     "output_type": "display_data"
    }
   ],
   "source": [
    "in_recovery = species_observations[species_observations['conservation_status'] == 'In Recovery']\n",
    "endangered = species_observations[species_observations['conservation_status'] == 'Endangered']\n",
    "of_concern = species_observations[species_observations['conservation_status'] == 'Species of Concern']\n",
    "\n",
    "\n",
    "plt.hist(in_recovery.observations, bins=5, histtype='step', label=' In recovery');\n",
    "plt.hist(endangered.observations, bins=5, histtype='step', label='Endangered');\n",
    "plt.legend()\n",
    "plt.show()\n",
    "plt.clf()\n",
    "\n",
    "\n",
    "sns.displot(of_concern.observations, bins=20, kde=False);\n",
    "plt.title('The distribution of the Species of concern observations')\n",
    "plt.xlabel('Observation')\n",
    "plt.ylabel('Frequency')\n",
    "plt.legend(['Species of Concern'])\n",
    "plt.show()"
   ]
  },
  {
   "cell_type": "markdown",
   "metadata": {},
   "source": [
    "This graphs tells us that the volume of endangered species is much higher thatn those in recovery. Although, those in recovery tend to be more concentrated in the lower end of observations. The species of concern are higher is frequency and the distribution is bimodal. Let's look at the types of species that are endangered to look for any trends. "
   ]
  },
  {
   "cell_type": "code",
   "execution_count": 264,
   "metadata": {},
   "outputs": [
    {
     "data": {
      "image/png": "[encoded data removed]",
      "text/plain": [
       "<Figure size 504x504 with 1 Axes>"
      ]
     },
     "metadata": {},
     "output_type": "display_data"
    }
   ],
   "source": [
    "plt.figure(figsize=(7, 7))\n",
    "labels = ['Mammal', 'Bird', 'Fish', 'Amphibian', 'Vascular Plant']\n",
    "plt.pie(endangered.category.value_counts(normalize=True).values, labels=labels, autopct='%d%%');"
   ]
  },
  {
   "cell_type": "markdown",
   "metadata": {},
   "source": [
    "Clearly, the majority of endangered species are mammals, with the second largest being bird followed by fish and the smallest group being vascular plants and amphibians. \n",
    "\n",
    "\n",
    "\n",
    "\n",
    "We ought to compare the difference between species and conservation status to see if there is a significant association between the two variables. Category of species is a nominal categorical variable and conservation status is an ordinal categorical variable. Given this information, the best test is a Chi-Square test. The null hypothesis is that there is no association between these two variables. The alternative hypothesis is that there is an association. I'll use a significance threshold of 5 percent.\n",
    "Let's begin!"
   ]
  },
  {
   "cell_type": "code",
   "execution_count": 267,
   "metadata": {},
   "outputs": [
    {
     "name": "stdout",
     "output_type": "stream",
     "text": [
      "conservation_status  Endangered  In Recovery  Species of Concern  Threatened\n",
      "category                                                                    \n",
      "Amphibian                     4            0                  16           8\n",
      "Bird                         16           12                 320           0\n",
      "Fish                         12            0                  16          20\n",
      "Mammal                       44           12                 168           8\n",
      "Nonvascular Plant             0            0                  20           0\n",
      "Reptile                       0            0                  20           0\n",
      "Vascular Plant                4            0                 172           8\n"
     ]
    }
   ],
   "source": [
    "from scipy.stats import chi2_contingency\n",
    "ab_contingency = pd.crosstab(species_observations.category, species_observations.conservation_status)\n",
    "print(ab_contingency)"
   ]
  },
  {
   "cell_type": "markdown",
   "metadata": {},
   "source": [
    "This table gives us a nice overview of our two categorical variables. The rows represent the category of the species, the columns represent the conservation_status.\n",
    "\n",
    "\n",
    "Now let's test for an association. We assume that the variables are mutually exclusive. This is correct as a species cannot be in both the species of concern category and threatened category, for example. Furthermore, a species cannot belong to both fish and mammal categories. Secondly, We are also assuming that the observations are independent and random. This is the case given that the data was sampled from four different parks. "
   ]
  },
  {
   "cell_type": "code",
   "execution_count": 268,
   "metadata": {},
   "outputs": [
    {
     "name": "stdout",
     "output_type": "stream",
     "text": [
      "2.7594442674479634e-49\n"
     ]
    }
   ],
   "source": [
    "chi2, pval, dof, expected = chi2_contingency(ab_contingency)\n",
    "print(pval)"
   ]
  },
  {
   "cell_type": "markdown",
   "metadata": {},
   "source": [
    "Given that this value is below our 0.05 significance threshold, we can conclude that there is a significant assocation between conservation_status and category of species. Finally we will look at which species were spotted most frequently at each park. "
   ]
  },
  {
   "cell_type": "code",
   "execution_count": 295,
   "metadata": {},
   "outputs": [
    {
     "name": "stdout",
     "output_type": "stream",
     "text": [
      "                                     common_names\n",
      "park_name                                        \n",
      "Bryce National Park                  Zygodon Moss\n",
      "Great Smoky Mountains National Park  Zygodon Moss\n",
      "Yellowstone National Park            Zygodon Moss\n",
      "Yosemite National Park               Zygodon Moss\n"
     ]
    }
   ],
   "source": [
    "most_common_by_park = species_observations.groupby('park_name').agg({'common_names': 'max'})\n",
    "print(most_common_by_park)\n"
   ]
  },
  {
   "cell_type": "markdown",
   "metadata": {},
   "source": [
    "The most common species for every park is Zygodon Moss. Let's delve deeper and find out the most common endangered mammals by park. Ranked by the fewest observations."
   ]
  },
  {
   "cell_type": "code",
   "execution_count": 313,
   "metadata": {},
   "outputs": [
    {
     "data": {
      "text/plain": [
       "park_name                            common_names                                               \n",
       "Bryce National Park                  Carolina Northern Flying Squirrel, Northern Flying Squirrel    29\n",
       "                                     Gray Myotis                                                    27\n",
       "                                     Gray Wolf                                                      27\n",
       "                                     Gray Wolf, Wolf                                                27\n",
       "                                     Indiana Bat, Indiana Or Social Myotis                          27\n",
       "                                     Red Wolf                                                       30\n",
       "                                     Sierra Nevada Bighorn Sheep                                    22\n",
       "Great Smoky Mountains National Park  Carolina Northern Flying Squirrel, Northern Flying Squirrel    21\n",
       "                                     Gray Myotis                                                    26\n",
       "                                     Gray Wolf                                                      14\n",
       "                                     Gray Wolf, Wolf                                                14\n",
       "                                     Indiana Bat, Indiana Or Social Myotis                          14\n",
       "                                     Red Wolf                                                       13\n",
       "                                     Sierra Nevada Bighorn Sheep                                    25\n",
       "Yellowstone National Park            Carolina Northern Flying Squirrel, Northern Flying Squirrel    67\n",
       "                                     Gray Myotis                                                    68\n",
       "                                     Gray Wolf                                                      60\n",
       "                                     Gray Wolf, Wolf                                                60\n",
       "                                     Indiana Bat, Indiana Or Social Myotis                          68\n",
       "                                     Red Wolf                                                       60\n",
       "                                     Sierra Nevada Bighorn Sheep                                    67\n",
       "Yosemite National Park               Carolina Northern Flying Squirrel, Northern Flying Squirrel    36\n",
       "                                     Gray Myotis                                                    39\n",
       "                                     Gray Wolf                                                      35\n",
       "                                     Gray Wolf, Wolf                                                35\n",
       "                                     Indiana Bat, Indiana Or Social Myotis                          36\n",
       "                                     Red Wolf                                                       34\n",
       "                                     Sierra Nevada Bighorn Sheep                                    39\n",
       "Name: observations, dtype: int64"
      ]
     },
     "execution_count": 313,
     "metadata": {},
     "output_type": "execute_result"
    }
   ],
   "source": [
    "endangered_mammal = species_observations[(species_observations['category'] == 'Mammal') & (species_observations['conservation_status'] == 'Endangered')]\n",
    "endangered_mammal.groupby(['park_name', 'common_names'])['observations'].min()\n"
   ]
  },
  {
   "cell_type": "markdown",
   "metadata": {},
   "source": [
    "In Bryce National Park the most endangered mammal are the Gray Myotis and the Gray Wolf. In Great Smoky Mountains National Park, it's the Gray Wolf and Indiana Bat. In Yellowstone National Park, it's the Gray Wolf and in Yosemite National Park it is the Red Wolf."
   ]
  },
  {
   "cell_type": "markdown",
   "metadata": {},
   "source": [
    "## Conclusion\n",
    "From the findings, a conclusion can be made that the most common conservation status is is species of concern. The least common being "
   ]
  }
 ],
 "metadata": {
  "kernelspec": {
   "display_name": "Python 3",
   "language": "python",
   "name": "python3"
  },
  "language_info": {
   "codemirror_mode": {
    "name": "ipython",
    "version": 3
   },
   "file_extension": ".py",
   "mimetype": "text/x-python",
   "name": "python",
   "nbconvert_exporter": "python",
   "pygments_lexer": "ipython3",
   "version": "3.9.1"
  }
 },
 "nbformat": 4,
 "nbformat_minor": 4
}
